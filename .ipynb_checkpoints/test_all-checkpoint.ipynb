{
 "cells": [
  {
   "cell_type": "code",
   "execution_count": 92,
   "metadata": {},
   "outputs": [],
   "source": [
    "import numpy as np\n",
    "import pandas as pd\n",
    "import importlib\n",
    "import sklearn\n",
    "from sklearn import svm\n",
    "from sklearn.gaussian_process.kernels import RBF as RBF"
   ]
  },
  {
   "cell_type": "code",
   "execution_count": 8,
   "metadata": {},
   "outputs": [],
   "source": [
    "data_orig = pd.read_csv('./data/GRAM_NEG_SIG_13.csv')"
   ]
  },
  {
   "cell_type": "code",
   "execution_count": 9,
   "metadata": {},
   "outputs": [
    {
     "name": "stdout",
     "output_type": "stream",
     "text": [
      "                                                   seq  clv_ind\n",
      "0    MKALKITGLSLIISATLAAQTNAAEPIYPDQLRLFSLGEDVCGTDY...       21\n",
      "1    MLKVIPWLLVTSSLVAIPTYIHATTEVVVNLNVKHSVEGKSEFERK...       23\n",
      "2    MNKTLIAAAVAGIVLLASNAQAQTVPEGYQLQQVLMMSRHNLRAPL...       22\n",
      "3    MNKAYSIIWSHSRQAWIVASELARGHGFVLAKNTLLVLAVVSTIGN...       49\n",
      "4    MKKTLLASSLIACLSIASVNVYAASESSISIGYAQSHVKENGYTLD...       23\n",
      "..                                                 ...      ...\n",
      "258  MKTFSVTKSSVVFAMALGMASTAFAQDFCSNAQHSGQKVTITSNQT...       25\n",
      "259  MINHNKTPNILAKVFKRTCGLVSTGAALAILSQAASAACTYTIDSE...       38\n",
      "260  MTKDFKISVSAALISALFSSPYAFAEEPEDGNDGIPRLSAVQISPN...       25\n",
      "261  MKKIACLSAMAAVLAFTAGTSVAATSTVTGGYAQSDAQGQMNKMGG...       23\n",
      "262     MKILYSFLLLPFFSCAFSVDSMIKFSGEDDFFLVNGNSKEREYIYV       16\n",
      "\n",
      "[263 rows x 2 columns]\n"
     ]
    }
   ],
   "source": [
    "print(data_orig )"
   ]
  },
  {
   "cell_type": "code",
   "execution_count": 10,
   "metadata": {},
   "outputs": [
    {
     "name": "stdout",
     "output_type": "stream",
     "text": [
      "263\n"
     ]
    }
   ],
   "source": [
    "data_orig = np.array(data_orig)\n",
    "print(len(data_orig))"
   ]
  },
  {
   "cell_type": "code",
   "execution_count": 11,
   "metadata": {},
   "outputs": [],
   "source": [
    "\n",
    "\n",
    "import utils"
   ]
  },
  {
   "cell_type": "code",
   "execution_count": 12,
   "metadata": {},
   "outputs": [
    {
     "name": "stdout",
     "output_type": "stream",
     "text": [
      "Help on function gen_dataset in module utils:\n",
      "\n",
      "gen_dataset(data_orig, p=13, q=2)\n",
      "    Function used to generate the labeled dataset.\n",
      "    - Param(s):\n",
      "        data_orig : The origin data. Of format [[seq, clv_ind], ...].\n",
      "        p : Number of acids before the clv site.\n",
      "        q : Number of acids after the clv site.\n",
      "    - Return:\n",
      "        dataset : Of format [[seq, label]], seq is of length p+q.\n",
      "\n"
     ]
    }
   ],
   "source": [
    "help(utils.gen_dataset)"
   ]
  },
  {
   "cell_type": "code",
   "execution_count": 13,
   "metadata": {},
   "outputs": [],
   "source": [
    "p = 13\n",
    "q = 2\n",
    "dataset = utils.gen_dataset(data_orig, p, q)"
   ]
  },
  {
   "cell_type": "code",
   "execution_count": 14,
   "metadata": {},
   "outputs": [
    {
     "name": "stdout",
     "output_type": "stream",
     "text": [
      "[[8.31528719e-07]]\n"
     ]
    }
   ],
   "source": [
    "K_RBF = RBF()\n",
    "u = utils.to_ind_vec(dataset[0][0]).reshape((1,-1))\n",
    "v = utils.to_ind_vec(dataset[1][0]).reshape((1,-1))\n",
    "print(K_RBF(u, v))"
   ]
  },
  {
   "cell_type": "code",
   "execution_count": 15,
   "metadata": {},
   "outputs": [],
   "source": [
    "X_list = [utils.to_ind_vec(data[0]) for data in dataset]\n",
    "Y_list = [data[1] for data in dataset]\n",
    "X_list = np.array(X_list)\n",
    "Y_list = np.array(Y_list)"
   ]
  },
  {
   "cell_type": "code",
   "execution_count": 16,
   "metadata": {},
   "outputs": [],
   "source": [
    "msk = (np.random.rand(len(Y_list)) < 0.7)\n",
    "X_list_train = X_list[msk]\n",
    "Y_list_train = Y_list[msk]\n",
    "X_list_test = X_list[~msk]\n",
    "Y_list_test = Y_list[~msk]"
   ]
  },
  {
   "cell_type": "code",
   "execution_count": 17,
   "metadata": {},
   "outputs": [],
   "source": [
    "model_svm_smp = svm.SVC(gamma='auto')"
   ]
  },
  {
   "cell_type": "code",
   "execution_count": 18,
   "metadata": {},
   "outputs": [
    {
     "data": {
      "text/plain": [
       "SVC(C=1.0, break_ties=False, cache_size=200, class_weight=None, coef0=0.0,\n",
       "    decision_function_shape='ovr', degree=3, gamma='auto', kernel='rbf',\n",
       "    max_iter=-1, probability=False, random_state=None, shrinking=True,\n",
       "    tol=0.001, verbose=False)"
      ]
     },
     "execution_count": 18,
     "metadata": {},
     "output_type": "execute_result"
    }
   ],
   "source": [
    "model_svm_smp.fit(X_list_train, Y_list_train)"
   ]
  },
  {
   "cell_type": "code",
   "execution_count": 19,
   "metadata": {},
   "outputs": [],
   "source": [
    "Yp_list_train = model_svm_smp.predict(X_list_train)\n",
    "Yp_list_test = model_svm_smp.predict(X_list_test)"
   ]
  },
  {
   "cell_type": "code",
   "execution_count": 20,
   "metadata": {},
   "outputs": [],
   "source": [
    "err_train = np.sum(Y_list_train!=Yp_list_train) / len(Y_list_train)\n",
    "err_test = np.sum(Y_list_test!=Yp_list_test) / len(Y_list_test)"
   ]
  },
  {
   "cell_type": "code",
   "execution_count": 21,
   "metadata": {},
   "outputs": [
    {
     "name": "stdout",
     "output_type": "stream",
     "text": [
      "Train err : 0.023909794864828148\n",
      "Test err : 0.02709436312675179\n"
     ]
    }
   ],
   "source": [
    "print('Train err :', err_train)\n",
    "print('Test err :', err_test)"
   ]
  },
  {
   "cell_type": "code",
   "execution_count": 140,
   "metadata": {},
   "outputs": [
    {
     "data": {
      "text/plain": [
       "<module 'scoring_matrix' from 'C:\\\\Users\\\\zbxol\\\\OneDrive - Ecole Polytechnique\\\\INF442\\\\scoring_matrix.py'>"
      ]
     },
     "execution_count": 140,
     "metadata": {},
     "output_type": "execute_result"
    }
   ],
   "source": [
    "import scoring_matrix\n",
    "importlib.reload(scoring_matrix)"
   ]
  },
  {
   "cell_type": "code",
   "execution_count": 102,
   "metadata": {},
   "outputs": [
    {
     "name": "stdout",
     "output_type": "stream",
     "text": [
      "The train err is 0.024.\n",
      "The test err is 0.026.\n"
     ]
    }
   ],
   "source": [
    "model_2 = scoring_matrix.train_model(data_orig, p, q)"
   ]
  },
  {
   "cell_type": "code",
   "execution_count": 144,
   "metadata": {},
   "outputs": [
    {
     "data": {
      "text/plain": [
       "<module 'scoring_matrix' from 'C:\\\\Users\\\\zbxol\\\\OneDrive - Ecole Polytechnique\\\\INF442\\\\scoring_matrix.py'>"
      ]
     },
     "execution_count": 144,
     "metadata": {},
     "output_type": "execute_result"
    }
   ],
   "source": [
    "import scoring_matrix\n",
    "importlib.reload(scoring_matrix)"
   ]
  },
  {
   "cell_type": "code",
   "execution_count": 145,
   "metadata": {},
   "outputs": [],
   "source": [
    "kernel = scoring_matrix.prob_kernel(p, q, dataset)"
   ]
  },
  {
   "cell_type": "code",
   "execution_count": 146,
   "metadata": {},
   "outputs": [
    {
     "name": "stdout",
     "output_type": "stream",
     "text": [
      "(26, 15)\n"
     ]
    }
   ],
   "source": [
    "print(kernel.matrix_s.shape)"
   ]
  },
  {
   "cell_type": "code",
   "execution_count": 149,
   "metadata": {},
   "outputs": [
    {
     "name": "stdout",
     "output_type": "stream",
     "text": [
      "4.972698060389487\n",
      "0.8212444065017099\n",
      "(390,)\n"
     ]
    }
   ],
   "source": [
    "u = dataset[0][0]\n",
    "u = utils.to_ind_vec(u)\n",
    "v = dataset[1][0]\n",
    "v = utils.to_ind_vec(v)\n",
    "print(kernel(u, u))\n",
    "print(kernel(u, v))\n",
    "print(u.shape)"
   ]
  },
  {
   "cell_type": "code",
   "execution_count": 148,
   "metadata": {},
   "outputs": [
    {
     "name": "stdout",
     "output_type": "stream",
     "text": [
      "Shape of kernel is (10, 10)\n",
      "[[4.97269806 0.82124441 0.67552955 0.98331095 1.03291299 0.66630272\n",
      "  1.06157565 1.11796837 1.25586722 1.16182009]\n",
      " [0.82124441 4.67242871 0.45191576 0.49720589 0.69369993 0.78841578\n",
      "  0.76009785 0.92266617 0.92247911 0.89510944]\n",
      " [0.67552955 0.45191576 4.5239919  0.39968431 0.31621412 0.35602992\n",
      "  0.70808242 0.75962665 0.83464424 0.69815158]\n",
      " [0.98331095 0.49720589 0.39968431 4.61546234 0.75214998 0.38667923\n",
      "  0.47429027 0.89535932 1.22323588 1.13384926]\n",
      " [1.03291299 0.69369993 0.31621412 0.75214998 4.55208144 0.6871162\n",
      "  0.37840491 0.53464403 1.21771694 1.13870656]\n",
      " [0.66630272 0.78841578 0.35602992 0.38667923 0.6871162  4.55752645\n",
      "  0.72700108 0.499234   0.58651441 1.11350563]\n",
      " [1.06157565 0.76009785 0.70808242 0.47429027 0.37840491 0.72700108\n",
      "  4.61837323 0.87920985 0.59855582 0.5317837 ]\n",
      " [1.11796837 0.92266617 0.75962665 0.89535932 0.53464403 0.499234\n",
      "  0.87920985 4.76399719 1.03956347 0.62002244]\n",
      " [1.25586722 0.92247911 0.83464424 1.22323588 1.21771694 0.58651441\n",
      "  0.59855582 1.03956347 4.82545805 1.31423672]\n",
      " [1.16182009 0.89510944 0.69815158 1.13384926 1.13870656 1.11350563\n",
      "  0.5317837  0.62002244 1.31423672 4.7033768 ]]\n",
      "Shape of kernel is (10, 10)\n",
      "[[ 0.64500895  0.60188197  0.79853464  0.7732979   1.12259734  1.16472971\n",
      "   0.85348848  0.37584047  0.29312378  0.13033058]\n",
      " [ 1.03073847  0.35955009  0.26286398  0.56677595  0.51077898  0.93242932\n",
      "   0.9333315   0.43122521  0.0507919  -0.11200129]\n",
      " [ 0.87791367  0.85598401  0.14077584  0.1469712   0.43070654  0.44700183\n",
      "   0.8159949   1.01806288  0.2312477   0.15704683]\n",
      " [ 0.89990286  0.8937906   0.82666136  0.22166274  0.20285415  0.25895673\n",
      "   0.53649944  0.70064277  0.68787831 -0.15939789]\n",
      " [ 1.18616603  0.5370771   0.73155689  0.77515229  0.15107536  0.20717795\n",
      "   0.21864243  0.03433322  0.56476717  0.44880473]\n",
      " [ 1.25084798  1.14265922  0.45790752  0.73530748  0.76114004  0.21221066\n",
      "   0.47449904  0.03936594 -0.04335076  0.39994021]\n",
      " [ 1.26506511  1.24763189  0.79386288  0.22491395  0.76054003  0.86911331\n",
      "   0.27367243  0.34614104  0.00664652 -0.15614668]\n",
      " [ 0.76901848  1.33521116  1.25392429  0.90857862  0.32551389  0.93543137\n",
      "   0.68415921  0.20877175  0.3919781  -0.03673814]\n",
      " [ 0.79472145  0.77212074  1.27669517  1.30149579  0.93522924  0.43231947\n",
      "   0.99646669  0.54607925  0.17675805  0.28221584]\n",
      " [ 1.3256346   0.38536592  0.57825985  1.18737303  1.1736393   0.88881223\n",
      "   0.34363365  0.44890447  0.36618778 -0.08618546]]\n"
     ]
    },
    {
     "ename": "AttributeError",
     "evalue": "'list' object has no attribute 'shape'",
     "output_type": "error",
     "traceback": [
      "\u001b[1;31m---------------------------------------------------------------------------\u001b[0m",
      "\u001b[1;31mAttributeError\u001b[0m                            Traceback (most recent call last)",
      "\u001b[1;32m<ipython-input-148-e13399b33a78>\u001b[0m in \u001b[0;36m<module>\u001b[1;34m\u001b[0m\n\u001b[0;32m      3\u001b[0m \u001b[0mprint\u001b[0m\u001b[1;33m(\u001b[0m\u001b[0mkernel\u001b[0m\u001b[1;33m(\u001b[0m\u001b[0mu\u001b[0m\u001b[1;33m,\u001b[0m \u001b[0mu\u001b[0m\u001b[1;33m)\u001b[0m\u001b[1;33m)\u001b[0m\u001b[1;33m\u001b[0m\u001b[1;33m\u001b[0m\u001b[0m\n\u001b[0;32m      4\u001b[0m \u001b[0mprint\u001b[0m\u001b[1;33m(\u001b[0m\u001b[0mkernel\u001b[0m\u001b[1;33m(\u001b[0m\u001b[0mu\u001b[0m\u001b[1;33m,\u001b[0m\u001b[0mv\u001b[0m\u001b[1;33m)\u001b[0m\u001b[1;33m)\u001b[0m\u001b[1;33m\u001b[0m\u001b[1;33m\u001b[0m\u001b[0m\n\u001b[1;32m----> 5\u001b[1;33m \u001b[0mprint\u001b[0m\u001b[1;33m(\u001b[0m\u001b[0mu\u001b[0m\u001b[1;33m.\u001b[0m\u001b[0mshape\u001b[0m\u001b[1;33m)\u001b[0m\u001b[1;33m\u001b[0m\u001b[1;33m\u001b[0m\u001b[0m\n\u001b[0m",
      "\u001b[1;31mAttributeError\u001b[0m: 'list' object has no attribute 'shape'"
     ]
    }
   ],
   "source": [
    "u = [utils.to_ind_vec(dataset[i][0]) for i in range(10)]\n",
    "u = np.array(u)\n",
    "v = [utils.to_ind_vec(dataset[i][0]) for i in range(10, 20)]\n",
    "v = np.array(v)\n",
    "print(kernel(u, u))\n",
    "print(kernel(u,v))\n",
    "print(u.shape)"
   ]
  },
  {
   "cell_type": "code",
   "execution_count": 133,
   "metadata": {},
   "outputs": [
    {
     "ename": "KeyboardInterrupt",
     "evalue": "",
     "output_type": "error",
     "traceback": [
      "\u001b[1;31m---------------------------------------------------------------------------\u001b[0m",
      "\u001b[1;31mKeyboardInterrupt\u001b[0m                         Traceback (most recent call last)",
      "\u001b[1;32m<ipython-input-133-953782626785>\u001b[0m in \u001b[0;36m<module>\u001b[1;34m\u001b[0m\n\u001b[1;32m----> 1\u001b[1;33m \u001b[0mmodel_3\u001b[0m \u001b[1;33m=\u001b[0m \u001b[0mscoring_matrix\u001b[0m\u001b[1;33m.\u001b[0m\u001b[0mtrain_model\u001b[0m\u001b[1;33m(\u001b[0m\u001b[0mdata_orig\u001b[0m\u001b[1;33m,\u001b[0m \u001b[0mp\u001b[0m\u001b[1;33m,\u001b[0m \u001b[0mq\u001b[0m\u001b[1;33m,\u001b[0m \u001b[0mkernel\u001b[0m \u001b[1;33m=\u001b[0m \u001b[0mkernel\u001b[0m\u001b[1;33m)\u001b[0m\u001b[1;33m\u001b[0m\u001b[1;33m\u001b[0m\u001b[0m\n\u001b[0m",
      "\u001b[1;32m~\\OneDrive - Ecole Polytechnique\\INF442\\scoring_matrix.py\u001b[0m in \u001b[0;36mtrain_model\u001b[1;34m(data_orig, p, q, kernel)\u001b[0m\n\u001b[0;32m    214\u001b[0m     \u001b[0mX_list_train\u001b[0m \u001b[1;33m=\u001b[0m \u001b[0mX_list\u001b[0m\u001b[1;33m[\u001b[0m\u001b[0mmsk\u001b[0m\u001b[1;33m]\u001b[0m\u001b[1;33m\u001b[0m\u001b[1;33m\u001b[0m\u001b[0m\n\u001b[0;32m    215\u001b[0m     \u001b[0mY_list_train\u001b[0m \u001b[1;33m=\u001b[0m \u001b[0mY_list\u001b[0m\u001b[1;33m[\u001b[0m\u001b[0mmsk\u001b[0m\u001b[1;33m]\u001b[0m\u001b[1;33m\u001b[0m\u001b[1;33m\u001b[0m\u001b[0m\n\u001b[1;32m--> 216\u001b[1;33m     \u001b[0mX_list_test\u001b[0m \u001b[1;33m=\u001b[0m \u001b[0mX_list\u001b[0m\u001b[1;33m[\u001b[0m\u001b[1;33m~\u001b[0m\u001b[0mmsk\u001b[0m\u001b[1;33m]\u001b[0m\u001b[1;33m\u001b[0m\u001b[1;33m\u001b[0m\u001b[0m\n\u001b[0m\u001b[0;32m    217\u001b[0m     \u001b[0mY_list_test\u001b[0m \u001b[1;33m=\u001b[0m \u001b[0mY_list\u001b[0m\u001b[1;33m[\u001b[0m\u001b[1;33m~\u001b[0m\u001b[0mmsk\u001b[0m\u001b[1;33m]\u001b[0m\u001b[1;33m\u001b[0m\u001b[1;33m\u001b[0m\u001b[0m\n\u001b[0;32m    218\u001b[0m     \u001b[1;31m# Define the model.\u001b[0m\u001b[1;33m\u001b[0m\u001b[1;33m\u001b[0m\u001b[1;33m\u001b[0m\u001b[0m\n",
      "\u001b[1;32mC:\\ProgramData\\Anaconda3\\envs\\psc-gpu\\lib\\site-packages\\sklearn\\svm\\_base.py\u001b[0m in \u001b[0;36mfit\u001b[1;34m(self, X, y, sample_weight)\u001b[0m\n\u001b[0;32m    197\u001b[0m \u001b[1;33m\u001b[0m\u001b[0m\n\u001b[0;32m    198\u001b[0m         \u001b[0mseed\u001b[0m \u001b[1;33m=\u001b[0m \u001b[0mrnd\u001b[0m\u001b[1;33m.\u001b[0m\u001b[0mrandint\u001b[0m\u001b[1;33m(\u001b[0m\u001b[0mnp\u001b[0m\u001b[1;33m.\u001b[0m\u001b[0miinfo\u001b[0m\u001b[1;33m(\u001b[0m\u001b[1;34m'i'\u001b[0m\u001b[1;33m)\u001b[0m\u001b[1;33m.\u001b[0m\u001b[0mmax\u001b[0m\u001b[1;33m)\u001b[0m\u001b[1;33m\u001b[0m\u001b[1;33m\u001b[0m\u001b[0m\n\u001b[1;32m--> 199\u001b[1;33m         \u001b[0mfit\u001b[0m\u001b[1;33m(\u001b[0m\u001b[0mX\u001b[0m\u001b[1;33m,\u001b[0m \u001b[0my\u001b[0m\u001b[1;33m,\u001b[0m \u001b[0msample_weight\u001b[0m\u001b[1;33m,\u001b[0m \u001b[0msolver_type\u001b[0m\u001b[1;33m,\u001b[0m \u001b[0mkernel\u001b[0m\u001b[1;33m,\u001b[0m \u001b[0mrandom_seed\u001b[0m\u001b[1;33m=\u001b[0m\u001b[0mseed\u001b[0m\u001b[1;33m)\u001b[0m\u001b[1;33m\u001b[0m\u001b[1;33m\u001b[0m\u001b[0m\n\u001b[0m\u001b[0;32m    200\u001b[0m         \u001b[1;31m# see comment on the other call to np.iinfo in this file\u001b[0m\u001b[1;33m\u001b[0m\u001b[1;33m\u001b[0m\u001b[1;33m\u001b[0m\u001b[0m\n\u001b[0;32m    201\u001b[0m \u001b[1;33m\u001b[0m\u001b[0m\n",
      "\u001b[1;32mC:\\ProgramData\\Anaconda3\\envs\\psc-gpu\\lib\\site-packages\\sklearn\\svm\\_base.py\u001b[0m in \u001b[0;36m_dense_fit\u001b[1;34m(self, X, y, sample_weight, solver_type, kernel, random_seed)\u001b[0m\n\u001b[0;32m    237\u001b[0m             \u001b[1;31m# TODO: add keyword copy to copy on demand\u001b[0m\u001b[1;33m\u001b[0m\u001b[1;33m\u001b[0m\u001b[1;33m\u001b[0m\u001b[0m\n\u001b[0;32m    238\u001b[0m             \u001b[0mself\u001b[0m\u001b[1;33m.\u001b[0m\u001b[0m__Xfit\u001b[0m \u001b[1;33m=\u001b[0m \u001b[0mX\u001b[0m\u001b[1;33m\u001b[0m\u001b[1;33m\u001b[0m\u001b[0m\n\u001b[1;32m--> 239\u001b[1;33m             \u001b[0mX\u001b[0m \u001b[1;33m=\u001b[0m \u001b[0mself\u001b[0m\u001b[1;33m.\u001b[0m\u001b[0m_compute_kernel\u001b[0m\u001b[1;33m(\u001b[0m\u001b[0mX\u001b[0m\u001b[1;33m)\u001b[0m\u001b[1;33m\u001b[0m\u001b[1;33m\u001b[0m\u001b[0m\n\u001b[0m\u001b[0;32m    240\u001b[0m \u001b[1;33m\u001b[0m\u001b[0m\n\u001b[0;32m    241\u001b[0m             \u001b[1;32mif\u001b[0m \u001b[0mX\u001b[0m\u001b[1;33m.\u001b[0m\u001b[0mshape\u001b[0m\u001b[1;33m[\u001b[0m\u001b[1;36m0\u001b[0m\u001b[1;33m]\u001b[0m \u001b[1;33m!=\u001b[0m \u001b[0mX\u001b[0m\u001b[1;33m.\u001b[0m\u001b[0mshape\u001b[0m\u001b[1;33m[\u001b[0m\u001b[1;36m1\u001b[0m\u001b[1;33m]\u001b[0m\u001b[1;33m:\u001b[0m\u001b[1;33m\u001b[0m\u001b[1;33m\u001b[0m\u001b[0m\n",
      "\u001b[1;32mC:\\ProgramData\\Anaconda3\\envs\\psc-gpu\\lib\\site-packages\\sklearn\\svm\\_base.py\u001b[0m in \u001b[0;36m_compute_kernel\u001b[1;34m(self, X)\u001b[0m\n\u001b[0;32m    367\u001b[0m             \u001b[1;31m# in the case of precomputed kernel given as a function, we\u001b[0m\u001b[1;33m\u001b[0m\u001b[1;33m\u001b[0m\u001b[1;33m\u001b[0m\u001b[0m\n\u001b[0;32m    368\u001b[0m             \u001b[1;31m# have to compute explicitly the kernel matrix\u001b[0m\u001b[1;33m\u001b[0m\u001b[1;33m\u001b[0m\u001b[1;33m\u001b[0m\u001b[0m\n\u001b[1;32m--> 369\u001b[1;33m             \u001b[0mkernel\u001b[0m \u001b[1;33m=\u001b[0m \u001b[0mself\u001b[0m\u001b[1;33m.\u001b[0m\u001b[0mkernel\u001b[0m\u001b[1;33m(\u001b[0m\u001b[0mX\u001b[0m\u001b[1;33m,\u001b[0m \u001b[0mself\u001b[0m\u001b[1;33m.\u001b[0m\u001b[0m__Xfit\u001b[0m\u001b[1;33m)\u001b[0m\u001b[1;33m\u001b[0m\u001b[1;33m\u001b[0m\u001b[0m\n\u001b[0m\u001b[0;32m    370\u001b[0m             \u001b[1;32mif\u001b[0m \u001b[0msp\u001b[0m\u001b[1;33m.\u001b[0m\u001b[0missparse\u001b[0m\u001b[1;33m(\u001b[0m\u001b[0mkernel\u001b[0m\u001b[1;33m)\u001b[0m\u001b[1;33m:\u001b[0m\u001b[1;33m\u001b[0m\u001b[1;33m\u001b[0m\u001b[0m\n\u001b[0;32m    371\u001b[0m                 \u001b[0mkernel\u001b[0m \u001b[1;33m=\u001b[0m \u001b[0mkernel\u001b[0m\u001b[1;33m.\u001b[0m\u001b[0mtoarray\u001b[0m\u001b[1;33m(\u001b[0m\u001b[1;33m)\u001b[0m\u001b[1;33m\u001b[0m\u001b[1;33m\u001b[0m\u001b[0m\n",
      "\u001b[1;32m~\\OneDrive - Ecole Polytechnique\\INF442\\scoring_matrix.py\u001b[0m in \u001b[0;36m__call__\u001b[1;34m(self, a, b)\u001b[0m\n\u001b[0;32m    176\u001b[0m             \u001b[0mlen_a\u001b[0m \u001b[1;33m=\u001b[0m \u001b[0ma\u001b[0m\u001b[1;33m.\u001b[0m\u001b[0mshape\u001b[0m\u001b[1;33m[\u001b[0m\u001b[1;36m0\u001b[0m\u001b[1;33m]\u001b[0m\u001b[1;33m\u001b[0m\u001b[1;33m\u001b[0m\u001b[0m\n\u001b[0;32m    177\u001b[0m             \u001b[0mlen_b\u001b[0m \u001b[1;33m=\u001b[0m \u001b[0mb\u001b[0m\u001b[1;33m.\u001b[0m\u001b[0mshape\u001b[0m\u001b[1;33m[\u001b[0m\u001b[1;36m0\u001b[0m\u001b[1;33m]\u001b[0m\u001b[1;33m\u001b[0m\u001b[1;33m\u001b[0m\u001b[0m\n\u001b[1;32m--> 178\u001b[1;33m             \u001b[0mprint\u001b[0m\u001b[1;33m(\u001b[0m\u001b[1;34m'Shape of kernel is (%d, %d) % (len_a, len_b)'\u001b[0m\u001b[1;33m)\u001b[0m\u001b[1;33m\u001b[0m\u001b[1;33m\u001b[0m\u001b[0m\n\u001b[0m\u001b[0;32m    179\u001b[0m             \u001b[0mkernel_mat\u001b[0m \u001b[1;33m=\u001b[0m \u001b[0mnp\u001b[0m\u001b[1;33m.\u001b[0m\u001b[0mzeros\u001b[0m\u001b[1;33m(\u001b[0m\u001b[1;33m(\u001b[0m\u001b[0mlen_a\u001b[0m\u001b[1;33m,\u001b[0m \u001b[0mlen_b\u001b[0m\u001b[1;33m)\u001b[0m\u001b[1;33m)\u001b[0m\u001b[1;33m\u001b[0m\u001b[1;33m\u001b[0m\u001b[0m\n\u001b[0;32m    180\u001b[0m             \u001b[1;32mfor\u001b[0m \u001b[0mi\u001b[0m \u001b[1;32min\u001b[0m \u001b[0mrange\u001b[0m\u001b[1;33m(\u001b[0m\u001b[0mlen_a\u001b[0m\u001b[1;33m)\u001b[0m\u001b[1;33m:\u001b[0m\u001b[1;33m\u001b[0m\u001b[1;33m\u001b[0m\u001b[0m\n",
      "\u001b[1;32m~\\OneDrive - Ecole Polytechnique\\INF442\\scoring_matrix.py\u001b[0m in \u001b[0;36mprobability_log_kernel\u001b[1;34m(self, a, b)\u001b[0m\n\u001b[0;32m    132\u001b[0m         \u001b[0ma\u001b[0m \u001b[1;33m=\u001b[0m \u001b[0mnp\u001b[0m\u001b[1;33m.\u001b[0m\u001b[0mreshape\u001b[0m\u001b[1;33m(\u001b[0m\u001b[0ma\u001b[0m\u001b[1;33m,\u001b[0m \u001b[1;33m(\u001b[0m\u001b[0mn\u001b[0m\u001b[1;33m,\u001b[0m\u001b[1;36m26\u001b[0m\u001b[1;33m)\u001b[0m\u001b[1;33m)\u001b[0m\u001b[1;33m\u001b[0m\u001b[1;33m\u001b[0m\u001b[0m\n\u001b[0;32m    133\u001b[0m         \u001b[0mb\u001b[0m \u001b[1;33m=\u001b[0m \u001b[0mnp\u001b[0m\u001b[1;33m.\u001b[0m\u001b[0mreshape\u001b[0m\u001b[1;33m(\u001b[0m\u001b[0mb\u001b[0m\u001b[1;33m,\u001b[0m \u001b[1;33m(\u001b[0m\u001b[0mn\u001b[0m\u001b[1;33m,\u001b[0m\u001b[1;36m26\u001b[0m\u001b[1;33m)\u001b[0m\u001b[1;33m)\u001b[0m\u001b[1;33m\u001b[0m\u001b[1;33m\u001b[0m\u001b[0m\n\u001b[1;32m--> 134\u001b[1;33m         \u001b[1;31m#index_vec = np.arange(26)\u001b[0m\u001b[1;33m\u001b[0m\u001b[1;33m\u001b[0m\u001b[1;33m\u001b[0m\u001b[0m\n\u001b[0m\u001b[0;32m    135\u001b[0m         \u001b[1;31m#assert(len(a) == len(b))\u001b[0m\u001b[1;33m\u001b[0m\u001b[1;33m\u001b[0m\u001b[1;33m\u001b[0m\u001b[0m\n\u001b[0;32m    136\u001b[0m         \u001b[1;32mfor\u001b[0m \u001b[0mi\u001b[0m \u001b[1;32min\u001b[0m \u001b[0mrange\u001b[0m\u001b[1;33m(\u001b[0m\u001b[0mlen\u001b[0m\u001b[1;33m(\u001b[0m\u001b[0ma\u001b[0m\u001b[1;33m)\u001b[0m\u001b[1;33m)\u001b[0m\u001b[1;33m:\u001b[0m\u001b[1;33m\u001b[0m\u001b[1;33m\u001b[0m\u001b[0m\n",
      "\u001b[1;32m<__array_function__ internals>\u001b[0m in \u001b[0;36mdot\u001b[1;34m(*args, **kwargs)\u001b[0m\n",
      "\u001b[1;31mKeyboardInterrupt\u001b[0m: "
     ]
    }
   ],
   "source": [
    "model_3 = scoring_matrix.train_model(data_orig, p, q, kernel = kernel)"
   ]
  },
  {
   "cell_type": "code",
   "execution_count": null,
   "metadata": {},
   "outputs": [],
   "source": []
  }
 ],
 "metadata": {
  "kernelspec": {
   "display_name": "psc_gpu",
   "language": "python",
   "name": "psc_gpu"
  },
  "language_info": {
   "codemirror_mode": {
    "name": "ipython",
    "version": 3
   },
   "file_extension": ".py",
   "mimetype": "text/x-python",
   "name": "python",
   "nbconvert_exporter": "python",
   "pygments_lexer": "ipython3",
   "version": "3.7.6"
  }
 },
 "nbformat": 4,
 "nbformat_minor": 4
}
