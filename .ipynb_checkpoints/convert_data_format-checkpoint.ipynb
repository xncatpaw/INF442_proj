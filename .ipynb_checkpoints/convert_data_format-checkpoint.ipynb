{
 "cells": [
  {
   "cell_type": "code",
   "execution_count": 1,
   "metadata": {},
   "outputs": [],
   "source": [
    "import numpy as np\n",
    "import pandas as pd"
   ]
  },
  {
   "cell_type": "code",
   "execution_count": 56,
   "metadata": {},
   "outputs": [],
   "source": [
    "data_GRAM_POS = pd.read_table('./data/EUKSIG_13.red')"
   ]
  },
  {
   "cell_type": "code",
   "execution_count": 57,
   "metadata": {},
   "outputs": [],
   "source": [
    "data_GRAM_POS_np = np.array(data_GRAM_POS)"
   ]
  },
  {
   "cell_type": "code",
   "execution_count": 58,
   "metadata": {},
   "outputs": [],
   "source": [
    "length = len(data_GRAM_POS_np)\n",
    "dataset_GRAM_POS = []\n",
    "for i in range(0, length, 3):\n",
    "    seq = data_GRAM_POS_np[i][0]\n",
    "    clv_ind = data_GRAM_POS_np[i+1][0].find('C')\n",
    "    dataset_GRAM_POS.append([seq, clv_ind])"
   ]
  },
  {
   "cell_type": "code",
   "execution_count": 59,
   "metadata": {},
   "outputs": [],
   "source": [
    "pd_fram = pd.DataFrame(dataset_GRAM_POS)"
   ]
  },
  {
   "cell_type": "code",
   "execution_count": 60,
   "metadata": {},
   "outputs": [
    {
     "name": "stdout",
     "output_type": "stream",
     "text": [
      "                                                    seq  clv_ind\n",
      "0     MASKATLLLAFTLLFATCIARHQQRQQQQNQCQLQNIEALEPIEVI...       20\n",
      "1     MARSSLFTFLCLAVFINGCLSQIEQQSPWEFQGSEVWQQHRYQSPR...       21\n",
      "2     MLVMAPRTVLLLLSAALALTETWAGSHSMRYFYTSVSRPGRGEPRF...       24\n",
      "3     MKLSKSTLVFSALLVILAAASAAPANQFIKTSCTLTTYPAVCEQSL...       22\n",
      "4     MANKLFLVCATLALCFLLTNASIYRTVVEFEEDDASNPVGPRQRCQ...       21\n",
      "...                                                 ...      ...\n",
      "1000  MKVTAASAGLLGHAFAAPVPQPVLVSRSAGINYVQNYNGNLADFTY...       27\n",
      "1001    MVPVLLSLLLLLGPAVPQENQDGRYSLTYIYTGLSKHVEDVPAFQAL       17\n",
      "1002  MATKILSLLALLALFASATNASIIPQCSLAPSSIIPQFLPPVTSMA...       21\n",
      "1003  MKVLIVALALLALAASAASSTSGGCGCQTPPFHLPPPFYMPPPFYLPPQ       19\n",
      "1004  MARWQRKASVSSPCGRSIYRFLSLLFTLVTSVNSVSLPQSENPAFP...       34\n",
      "\n",
      "[1005 rows x 2 columns]\n"
     ]
    }
   ],
   "source": [
    "pd_fram.columns = ['seq', 'clv_ind']\n",
    "print(pd_fram)"
   ]
  },
  {
   "cell_type": "code",
   "execution_count": 61,
   "metadata": {},
   "outputs": [],
   "source": [
    "pd_fram.to_csv('./data/EUKSIG_13.csv', index=False)"
   ]
  },
  {
   "cell_type": "code",
   "execution_count": null,
   "metadata": {},
   "outputs": [],
   "source": []
  }
 ],
 "metadata": {
  "kernelspec": {
   "display_name": "Python 3",
   "language": "python",
   "name": "python3"
  },
  "language_info": {
   "codemirror_mode": {
    "name": "ipython",
    "version": 3
   },
   "file_extension": ".py",
   "mimetype": "text/x-python",
   "name": "python",
   "nbconvert_exporter": "python",
   "pygments_lexer": "ipython3",
   "version": "3.7.3"
  }
 },
 "nbformat": 4,
 "nbformat_minor": 4
}
