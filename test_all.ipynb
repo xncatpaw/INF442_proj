{
 "cells": [
  {
   "cell_type": "code",
   "execution_count": 92,
   "metadata": {},
   "outputs": [],
   "source": [
    "import numpy as np\n",
    "import pandas as pd\n",
    "import importlib\n",
    "import sklearn\n",
    "from sklearn import svm\n",
    "from sklearn.gaussian_process.kernels import RBF as RBF"
   ]
  },
  {
   "cell_type": "code",
<<<<<<< HEAD
   "execution_count": 23,
=======
   "execution_count": 8,
>>>>>>> 9607d4a9e2133b143292f8680d13e32f518e4f90
   "metadata": {},
   "outputs": [],
   "source": [
    "data_orig = pd.read_csv('./data/SIG_13.csv')"
   ]
  },
  {
   "cell_type": "code",
<<<<<<< HEAD
   "execution_count": 3,
=======
   "execution_count": 9,
>>>>>>> 9607d4a9e2133b143292f8680d13e32f518e4f90
   "metadata": {},
   "outputs": [
    {
     "name": "stdout",
     "output_type": "stream",
     "text": [
      "                                                   seq  clv_ind\n",
      "0    MKALKITGLSLIISATLAAQTNAAEPIYPDQLRLFSLGEDVCGTDY...       21\n",
      "1    MLKVIPWLLVTSSLVAIPTYIHATTEVVVNLNVKHSVEGKSEFERK...       23\n",
      "2    MNKTLIAAAVAGIVLLASNAQAQTVPEGYQLQQVLMMSRHNLRAPL...       22\n",
      "3    MNKAYSIIWSHSRQAWIVASELARGHGFVLAKNTLLVLAVVSTIGN...       49\n",
      "4    MKKTLLASSLIACLSIASVNVYAASESSISIGYAQSHVKENGYTLD...       23\n",
      "..                                                 ...      ...\n",
      "258  MKTFSVTKSSVVFAMALGMASTAFAQDFCSNAQHSGQKVTITSNQT...       25\n",
      "259  MINHNKTPNILAKVFKRTCGLVSTGAALAILSQAASAACTYTIDSE...       38\n",
      "260  MTKDFKISVSAALISALFSSPYAFAEEPEDGNDGIPRLSAVQISPN...       25\n",
      "261  MKKIACLSAMAAVLAFTAGTSVAATSTVTGGYAQSDAQGQMNKMGG...       23\n",
      "262     MKILYSFLLLPFFSCAFSVDSMIKFSGEDDFFLVNGNSKEREYIYV       16\n",
      "\n",
      "[263 rows x 2 columns]\n"
     ]
    }
   ],
   "source": [
    "print(data_orig )"
   ]
  },
  {
   "cell_type": "code",
<<<<<<< HEAD
   "execution_count": 24,
=======
   "execution_count": 10,
>>>>>>> 9607d4a9e2133b143292f8680d13e32f518e4f90
   "metadata": {},
   "outputs": [
    {
     "name": "stdout",
     "output_type": "stream",
     "text": [
      "1408\n"
     ]
    }
   ],
   "source": [
    "data_orig = np.array(data_orig)\n",
    "print(len(data_orig))"
   ]
  },
  {
   "cell_type": "code",
<<<<<<< HEAD
   "execution_count": 25,
=======
   "execution_count": 11,
   "metadata": {},
   "outputs": [],
   "source": [
    "\n",
    "\n",
    "import utils"
   ]
  },
  {
   "cell_type": "code",
   "execution_count": 12,
   "metadata": {},
   "outputs": [
    {
     "name": "stdout",
     "output_type": "stream",
     "text": [
      "Help on function gen_dataset in module utils:\n",
      "\n",
      "gen_dataset(data_orig, p=13, q=2)\n",
      "    Function used to generate the labeled dataset.\n",
      "    - Param(s):\n",
      "        data_orig : The origin data. Of format [[seq, clv_ind], ...].\n",
      "        p : Number of acids before the clv site.\n",
      "        q : Number of acids after the clv site.\n",
      "    - Return:\n",
      "        dataset : Of format [[seq, label]], seq is of length p+q.\n",
      "\n"
     ]
    }
   ],
   "source": [
    "help(utils.gen_dataset)"
   ]
  },
  {
   "cell_type": "code",
   "execution_count": 13,
>>>>>>> 9607d4a9e2133b143292f8680d13e32f518e4f90
   "metadata": {},
   "outputs": [],
   "source": [
    "import utils"
   ]
  },
  {
   "cell_type": "code",
   "execution_count": 26,
   "metadata": {},
   "outputs": [
    {
     "name": "stdout",
     "output_type": "stream",
     "text": [
      "Help on function gen_dataset in module utils:\n",
      "\n",
      "gen_dataset(data_orig, p=13, q=2)\n",
      "    Function used to generate the labeled dataset.\n",
      "    - Param(s):\n",
      "        data_orig : The origin data. Of format [[seq, clv_ind], ...].\n",
      "        p : Number of acids before the clv site.\n",
      "        q : Number of acids after the clv site.\n",
      "    - Return:\n",
      "        dataset : Of format [[seq, label]], seq is of length p+q.\n",
      "\n"
     ]
    }
   ],
   "source": [
    "help(utils.gen_dataset)"
   ]
  },
  {
   "cell_type": "code",
   "execution_count": 27,
   "metadata": {},
   "outputs": [
    {
     "name": "stdout",
     "output_type": "stream",
     "text": [
      "4224\n"
     ]
    }
   ],
   "source": [
    "p = 13\n",
    "q = 2\n",
<<<<<<< HEAD
    "dataset = utils.gen_dataset_v2(data_orig, p, q)\n",
    "print(len(dataset))"
=======
    "dataset = utils.gen_dataset(data_orig, p, q)"
>>>>>>> 9607d4a9e2133b143292f8680d13e32f518e4f90
   ]
  },
  {
   "cell_type": "code",
   "execution_count": 14,
<<<<<<< HEAD
=======
   "metadata": {},
   "outputs": [
    {
     "name": "stdout",
     "output_type": "stream",
     "text": [
      "[[8.31528719e-07]]\n"
     ]
    }
   ],
   "source": [
    "K_RBF = RBF()\n",
    "u = utils.to_ind_vec(dataset[0][0]).reshape((1,-1))\n",
    "v = utils.to_ind_vec(dataset[1][0]).reshape((1,-1))\n",
    "print(K_RBF(u, v))"
   ]
  },
  {
   "cell_type": "code",
   "execution_count": 15,
   "metadata": {},
   "outputs": [],
   "source": [
    "X_list = [utils.to_ind_vec(data[0]) for data in dataset]\n",
    "Y_list = [data[1] for data in dataset]\n",
    "X_list = np.array(X_list)\n",
    "Y_list = np.array(Y_list)"
   ]
  },
  {
   "cell_type": "code",
   "execution_count": 16,
   "metadata": {},
   "outputs": [],
   "source": [
    "msk = (np.random.rand(len(Y_list)) < 0.7)\n",
    "X_list_train = X_list[msk]\n",
    "Y_list_train = Y_list[msk]\n",
    "X_list_test = X_list[~msk]\n",
    "Y_list_test = Y_list[~msk]"
   ]
  },
  {
   "cell_type": "code",
   "execution_count": 17,
   "metadata": {},
   "outputs": [],
   "source": [
    "model_svm_smp = svm.SVC(gamma='auto')"
   ]
  },
  {
   "cell_type": "code",
   "execution_count": 18,
   "metadata": {},
   "outputs": [
    {
     "data": {
      "text/plain": [
       "SVC(C=1.0, break_ties=False, cache_size=200, class_weight=None, coef0=0.0,\n",
       "    decision_function_shape='ovr', degree=3, gamma='auto', kernel='rbf',\n",
       "    max_iter=-1, probability=False, random_state=None, shrinking=True,\n",
       "    tol=0.001, verbose=False)"
      ]
     },
     "execution_count": 18,
     "metadata": {},
     "output_type": "execute_result"
    }
   ],
   "source": [
    "model_svm_smp.fit(X_list_train, Y_list_train)"
   ]
  },
  {
   "cell_type": "code",
   "execution_count": 19,
   "metadata": {},
   "outputs": [],
   "source": [
    "Yp_list_train = model_svm_smp.predict(X_list_train)\n",
    "Yp_list_test = model_svm_smp.predict(X_list_test)"
   ]
  },
  {
   "cell_type": "code",
   "execution_count": 20,
   "metadata": {},
   "outputs": [],
   "source": [
    "err_train = np.sum(Y_list_train!=Yp_list_train) / len(Y_list_train)\n",
    "err_test = np.sum(Y_list_test!=Yp_list_test) / len(Y_list_test)"
   ]
  },
  {
   "cell_type": "code",
   "execution_count": 21,
   "metadata": {},
   "outputs": [
    {
     "name": "stdout",
     "output_type": "stream",
     "text": [
      "Train err : 0.023909794864828148\n",
      "Test err : 0.02709436312675179\n"
     ]
    }
   ],
   "source": [
    "print('Train err :', err_train)\n",
    "print('Test err :', err_test)"
   ]
  },
  {
   "cell_type": "code",
   "execution_count": 140,
   "metadata": {},
   "outputs": [
    {
     "data": {
      "text/plain": [
       "<module 'scoring_matrix' from 'C:\\\\Users\\\\zbxol\\\\OneDrive - Ecole Polytechnique\\\\INF442\\\\scoring_matrix.py'>"
      ]
     },
     "execution_count": 140,
     "metadata": {},
     "output_type": "execute_result"
    }
   ],
   "source": [
    "import scoring_matrix\n",
    "importlib.reload(scoring_matrix)"
   ]
  },
  {
   "cell_type": "code",
   "execution_count": 102,
   "metadata": {},
   "outputs": [
    {
     "name": "stdout",
     "output_type": "stream",
     "text": [
      "The train err is 0.024.\n",
      "The test err is 0.026.\n"
     ]
    }
   ],
   "source": [
    "model_2 = scoring_matrix.train_model(data_orig, p, q)"
   ]
  },
  {
   "cell_type": "code",
   "execution_count": 152,
   "metadata": {},
   "outputs": [
    {
     "data": {
      "text/plain": [
       "<module 'scoring_matrix' from 'C:\\\\Users\\\\zbxol\\\\OneDrive - Ecole Polytechnique\\\\INF442\\\\scoring_matrix.py'>"
      ]
     },
     "execution_count": 152,
     "metadata": {},
     "output_type": "execute_result"
    }
   ],
   "source": [
    "import scoring_matrix\n",
    "importlib.reload(scoring_matrix)"
   ]
  },
  {
   "cell_type": "code",
   "execution_count": 153,
   "metadata": {},
   "outputs": [
    {
     "name": "stderr",
     "output_type": "stream",
     "text": [
      "C:\\Users\\zbxol\\OneDrive - Ecole Polytechnique\\INF442\\scoring_matrix.py:84: RuntimeWarning: divide by zero encountered in log10\n",
      "  return np.log10(self.f(a, i)) - np.log10(self.g(a))\n",
      "C:\\Users\\zbxol\\OneDrive - Ecole Polytechnique\\INF442\\scoring_matrix.py:84: RuntimeWarning: invalid value encountered in double_scalars\n",
      "  return np.log10(self.f(a, i)) - np.log10(self.g(a))\n"
     ]
    }
   ],
   "source": [
    "kernel = scoring_matrix.prob_kernel(p, q, dataset)\n",
    "kernel.debug = True"
   ]
  },
  {
   "cell_type": "code",
   "execution_count": 154,
>>>>>>> 9607d4a9e2133b143292f8680d13e32f518e4f90
   "metadata": {},
   "outputs": [
    {
     "name": "stdout",
     "output_type": "stream",
     "text": [
<<<<<<< HEAD
      "[[8.31528719e-07]]\n"
=======
      "(26, 15)\n"
>>>>>>> 9607d4a9e2133b143292f8680d13e32f518e4f90
     ]
    }
   ],
   "source": [
<<<<<<< HEAD
    "K_RBF = RBF()\n",
    "u = utils.to_ind_vec(dataset[0][0]).reshape((1,-1))\n",
    "v = utils.to_ind_vec(dataset[1][0]).reshape((1,-1))\n",
    "print(K_RBF(u, v))"
   ]
  },
  {
   "cell_type": "code",
   "execution_count": 28,
   "metadata": {},
   "outputs": [],
   "source": [
    "X_list = [utils.to_ind_vec(data[0]) for data in dataset]\n",
    "Y_list = [data[1] for data in dataset]\n",
    "X_list = np.array(X_list)\n",
    "Y_list = np.array(Y_list)"
   ]
  },
  {
   "cell_type": "code",
   "execution_count": 29,
   "metadata": {},
   "outputs": [],
   "source": [
    "msk = (np.random.rand(len(Y_list)) < 0.7)\n",
    "X_list_train = X_list[msk]\n",
    "Y_list_train = Y_list[msk]\n",
    "X_list_test = X_list[~msk]\n",
    "Y_list_test = Y_list[~msk]"
   ]
  },
  {
   "cell_type": "code",
   "execution_count": 30,
   "metadata": {},
   "outputs": [],
   "source": [
    "model_svm_smp = svm.SVC(gamma='auto')"
   ]
  },
  {
   "cell_type": "code",
   "execution_count": 31,
   "metadata": {},
   "outputs": [
    {
     "data": {
      "text/plain": [
       "SVC(C=1.0, break_ties=False, cache_size=200, class_weight=None, coef0=0.0,\n",
       "    decision_function_shape='ovr', degree=3, gamma='auto', kernel='rbf',\n",
       "    max_iter=-1, probability=False, random_state=None, shrinking=True,\n",
       "    tol=0.001, verbose=False)"
      ]
     },
     "execution_count": 31,
     "metadata": {},
     "output_type": "execute_result"
    }
   ],
   "source": [
    "model_svm_smp.fit(X_list_train, Y_list_train)"
   ]
  },
  {
   "cell_type": "code",
   "execution_count": 32,
   "metadata": {},
   "outputs": [],
   "source": [
    "Yp_list_train = model_svm_smp.predict(X_list_train)\n",
    "Yp_list_test = model_svm_smp.predict(X_list_test)"
   ]
  },
  {
   "cell_type": "code",
   "execution_count": 33,
   "metadata": {},
   "outputs": [],
   "source": [
    "err_train = np.sum(Y_list_train!=Yp_list_train) / len(Y_list_train)\n",
    "err_test = np.sum(Y_list_test!=Yp_list_test) / len(Y_list_test)"
   ]
  },
  {
   "cell_type": "code",
   "execution_count": 34,
   "metadata": {},
   "outputs": [
    {
     "name": "stdout",
     "output_type": "stream",
     "text": [
      "Train err : 0.13119143239625167\n",
      "Test err : 0.16828478964401294\n"
     ]
    }
   ],
   "source": [
    "print('Train err :', err_train)\n",
    "print('Test err :', err_test)"
   ]
  },
  {
   "cell_type": "code",
   "execution_count": 35,
   "metadata": {},
   "outputs": [
    {
     "data": {
      "text/plain": [
       "<module 'svm_model' from 'E:\\\\Ecole Polytechnique\\\\Zhong Benxin X2018 - INF442\\\\svm_model.py'>"
      ]
     },
     "execution_count": 35,
     "metadata": {},
     "output_type": "execute_result"
    }
   ],
   "source": [
    "import svm_model\n",
    "importlib.reload(svm_model)"
   ]
  },
  {
   "cell_type": "code",
   "execution_count": 36,
   "metadata": {},
   "outputs": [
    {
     "name": "stdout",
     "output_type": "stream",
     "text": [
      "The train err is 0.135.\n",
      "The test err is 0.143.\n"
     ]
    }
   ],
   "source": [
    "model_2 = svm_model.train_model(data_orig, p, q)"
   ]
  },
  {
   "cell_type": "code",
   "execution_count": 19,
   "metadata": {},
   "outputs": [
    {
     "name": "stderr",
     "output_type": "stream",
     "text": [
      "E:\\Ecole Polytechnique\\Zhong Benxin X2018 - INF442\\svm_model.py:114: RuntimeWarning: divide by zero encountered in log10\n",
      "  return np.log10(self.f(a, i)) - np.log10(self.g(a))\n",
      "E:\\Ecole Polytechnique\\Zhong Benxin X2018 - INF442\\svm_model.py:114: RuntimeWarning: invalid value encountered in double_scalars\n",
      "  return np.log10(self.f(a, i)) - np.log10(self.g(a))\n"
     ]
    }
   ],
   "source": [
    "kernel = svm_model.prob_kernel(p, q, dataset)\n",
    "kernel.debug = True"
   ]
  },
  {
   "cell_type": "code",
   "execution_count": 20,
   "metadata": {},
   "outputs": [
    {
     "name": "stdout",
     "output_type": "stream",
     "text": [
      "(26, 15)\n"
     ]
    }
   ],
   "source": [
=======
>>>>>>> 9607d4a9e2133b143292f8680d13e32f518e4f90
    "print(kernel.matrix_s.shape)"
   ]
  },
  {
   "cell_type": "code",
<<<<<<< HEAD
   "execution_count": 21,
=======
   "execution_count": 155,
>>>>>>> 9607d4a9e2133b143292f8680d13e32f518e4f90
   "metadata": {},
   "outputs": [
    {
     "name": "stdout",
     "output_type": "stream",
     "text": [
      "4.972698060389487\n",
      "0.8212444065017099\n",
      "(390,)\n"
     ]
    }
   ],
   "source": [
    "u = dataset[0][0]\n",
    "u = utils.to_ind_vec(u)\n",
    "v = dataset[1][0]\n",
    "v = utils.to_ind_vec(v)\n",
    "print(kernel(u, u))\n",
    "print(kernel(u, v))\n",
    "print(u.shape)"
   ]
  },
  {
   "cell_type": "code",
<<<<<<< HEAD
   "execution_count": 22,
=======
   "execution_count": 156,
>>>>>>> 9607d4a9e2133b143292f8680d13e32f518e4f90
   "metadata": {},
   "outputs": [
    {
     "name": "stdout",
     "output_type": "stream",
     "text": [
      "Shape of kernel is (10, 10)\n"
     ]
    },
    {
     "data": {
      "application/vnd.jupyter.widget-view+json": {
<<<<<<< HEAD
       "model_id": "9f0514dbc539437fbe5bb1c9b9943f95",
=======
       "model_id": "adeab4ea45314467b4f3688d51684d1f",
>>>>>>> 9607d4a9e2133b143292f8680d13e32f518e4f90
       "version_major": 2,
       "version_minor": 0
      },
      "text/plain": [
<<<<<<< HEAD
       "HBox(children=(IntProgress(value=0, max=10), HTML(value='')))"
=======
       "HBox(children=(FloatProgress(value=0.0, max=10.0), HTML(value='')))"
>>>>>>> 9607d4a9e2133b143292f8680d13e32f518e4f90
      ]
     },
     "metadata": {},
     "output_type": "display_data"
    },
    {
     "name": "stdout",
     "output_type": "stream",
     "text": [
      "\n",
      "[[4.97269806 0.82124441 0.67552955 0.98331095 1.03291299 0.66630272\n",
      "  1.06157565 1.11796837 1.25586722 1.16182009]\n",
      " [0.82124441 4.67242871 0.45191576 0.49720589 0.69369993 0.78841578\n",
      "  0.76009785 0.92266617 0.92247911 0.89510944]\n",
      " [0.67552955 0.45191576 4.5239919  0.39968431 0.31621412 0.35602992\n",
      "  0.70808242 0.75962665 0.83464424 0.69815158]\n",
      " [0.98331095 0.49720589 0.39968431 4.61546234 0.75214998 0.38667923\n",
      "  0.47429027 0.89535932 1.22323588 1.13384926]\n",
      " [1.03291299 0.69369993 0.31621412 0.75214998 4.55208144 0.6871162\n",
      "  0.37840491 0.53464403 1.21771694 1.13870656]\n",
      " [0.66630272 0.78841578 0.35602992 0.38667923 0.6871162  4.55752645\n",
      "  0.72700108 0.499234   0.58651441 1.11350563]\n",
      " [1.06157565 0.76009785 0.70808242 0.47429027 0.37840491 0.72700108\n",
      "  4.61837323 0.87920985 0.59855582 0.5317837 ]\n",
      " [1.11796837 0.92266617 0.75962665 0.89535932 0.53464403 0.499234\n",
      "  0.87920985 4.76399719 1.03956347 0.62002244]\n",
      " [1.25586722 0.92247911 0.83464424 1.22323588 1.21771694 0.58651441\n",
      "  0.59855582 1.03956347 4.82545805 1.31423672]\n",
      " [1.16182009 0.89510944 0.69815158 1.13384926 1.13870656 1.11350563\n",
      "  0.5317837  0.62002244 1.31423672 4.7033768 ]]\n",
      "Shape of kernel is (10, 10)\n"
     ]
    },
    {
     "data": {
      "application/vnd.jupyter.widget-view+json": {
<<<<<<< HEAD
       "model_id": "d212280f11744c5697f13d1d2dd7d910",
=======
       "model_id": "986ca011bb824336b16d114fe1420d23",
>>>>>>> 9607d4a9e2133b143292f8680d13e32f518e4f90
       "version_major": 2,
       "version_minor": 0
      },
      "text/plain": [
<<<<<<< HEAD
       "HBox(children=(IntProgress(value=0, max=10), HTML(value='')))"
=======
       "HBox(children=(FloatProgress(value=0.0, max=10.0), HTML(value='')))"
>>>>>>> 9607d4a9e2133b143292f8680d13e32f518e4f90
      ]
     },
     "metadata": {},
     "output_type": "display_data"
    },
    {
     "name": "stdout",
     "output_type": "stream",
     "text": [
      "\n",
      "[[ 0.64500895  0.60188197  0.79853464  0.7732979   1.12259734  1.16472971\n",
      "   0.85348848  0.37584047  0.29312378  0.13033058]\n",
      " [ 1.03073847  0.35955009  0.26286398  0.56677595  0.51077898  0.93242932\n",
      "   0.9333315   0.43122521  0.0507919  -0.11200129]\n",
      " [ 0.87791367  0.85598401  0.14077584  0.1469712   0.43070654  0.44700183\n",
      "   0.8159949   1.01806288  0.2312477   0.15704683]\n",
      " [ 0.89990286  0.8937906   0.82666136  0.22166274  0.20285415  0.25895673\n",
      "   0.53649944  0.70064277  0.68787831 -0.15939789]\n",
      " [ 1.18616603  0.5370771   0.73155689  0.77515229  0.15107536  0.20717795\n",
      "   0.21864243  0.03433322  0.56476717  0.44880473]\n",
      " [ 1.25084798  1.14265922  0.45790752  0.73530748  0.76114004  0.21221066\n",
      "   0.47449904  0.03936594 -0.04335076  0.39994021]\n",
      " [ 1.26506511  1.24763189  0.79386288  0.22491395  0.76054003  0.86911331\n",
      "   0.27367243  0.34614104  0.00664652 -0.15614668]\n",
      " [ 0.76901848  1.33521116  1.25392429  0.90857862  0.32551389  0.93543137\n",
      "   0.68415921  0.20877175  0.3919781  -0.03673814]\n",
      " [ 0.79472145  0.77212074  1.27669517  1.30149579  0.93522924  0.43231947\n",
      "   0.99646669  0.54607925  0.17675805  0.28221584]\n",
      " [ 1.3256346   0.38536592  0.57825985  1.18737303  1.1736393   0.88881223\n",
      "   0.34363365  0.44890447  0.36618778 -0.08618546]]\n",
      "(10, 390)\n"
     ]
    }
   ],
   "source": [
    "u = [utils.to_ind_vec(dataset[i][0]) for i in range(10)]\n",
    "u = np.array(u)\n",
    "v = [utils.to_ind_vec(dataset[i][0]) for i in range(10, 20)]\n",
    "v = np.array(v)\n",
    "print(kernel(u, u))\n",
    "print(kernel(u,v))\n",
    "print(u.shape)"
   ]
  },
  {
   "cell_type": "code",
   "execution_count": null,
   "metadata": {},
   "outputs": [
    {
     "name": "stdout",
     "output_type": "stream",
     "text": [
<<<<<<< HEAD
      "Shape of kernel is (7324, 7324)\n"
=======
      "Shape of kernel is (7504, 7504)\n"
>>>>>>> 9607d4a9e2133b143292f8680d13e32f518e4f90
     ]
    },
    {
     "data": {
      "application/vnd.jupyter.widget-view+json": {
<<<<<<< HEAD
       "model_id": "b111955431b0456282c732a43b277446",
=======
       "model_id": "315fe050ad9d47f3875a9965d9e2c947",
>>>>>>> 9607d4a9e2133b143292f8680d13e32f518e4f90
       "version_major": 2,
       "version_minor": 0
      },
      "text/plain": [
<<<<<<< HEAD
       "HBox(children=(FloatProgress(value=0.0, max=7324.0), HTML(value='')))"
=======
       "HBox(children=(FloatProgress(value=0.0, max=7504.0), HTML(value='')))"
>>>>>>> 9607d4a9e2133b143292f8680d13e32f518e4f90
      ]
     },
     "metadata": {},
     "output_type": "display_data"
    }
   ],
   "source": [
<<<<<<< HEAD
    "model_3 = svm_model.train_model(data_orig, p, q, kernel = kernel)"
   ]
  },
  {
   "cell_type": "markdown",
   "metadata": {},
   "source": [
    "## Test Deep Model"
   ]
  },
  {
   "cell_type": "code",
   "execution_count": 7,
   "metadata": {},
   "outputs": [
    {
     "ename": "OSError",
     "evalue": "[Errno 22] Invalid argument: 'C:\\\\Users\\\\zbxol\\\\OneDrive - Ecole Polytechnique\\\\INF442\\\\DeepLearning\\\\__init__.py'",
     "output_type": "error",
     "traceback": [
      "\u001b[1;31m---------------------------------------------------------------------------\u001b[0m",
      "\u001b[1;31mOSError\u001b[0m                                   Traceback (most recent call last)",
      "\u001b[1;32m<ipython-input-7-961b2114a03c>\u001b[0m in \u001b[0;36m<module>\u001b[1;34m\u001b[0m\n\u001b[1;32m----> 1\u001b[1;33m \u001b[1;32mfrom\u001b[0m \u001b[0mDeepLearning\u001b[0m \u001b[1;32mimport\u001b[0m \u001b[0mlinear_model\u001b[0m \u001b[1;32mas\u001b[0m \u001b[0mLM\u001b[0m\u001b[1;33m\u001b[0m\u001b[1;33m\u001b[0m\u001b[0m\n\u001b[0m",
      "\u001b[1;32mC:\\ProgramData\\Anaconda3\\envs\\psc-gpu\\lib\\importlib\\_bootstrap.py\u001b[0m in \u001b[0;36m_find_and_load\u001b[1;34m(name, import_)\u001b[0m\n",
      "\u001b[1;32mC:\\ProgramData\\Anaconda3\\envs\\psc-gpu\\lib\\importlib\\_bootstrap.py\u001b[0m in \u001b[0;36m_find_and_load_unlocked\u001b[1;34m(name, import_)\u001b[0m\n",
      "\u001b[1;32mC:\\ProgramData\\Anaconda3\\envs\\psc-gpu\\lib\\importlib\\_bootstrap.py\u001b[0m in \u001b[0;36m_load_unlocked\u001b[1;34m(spec)\u001b[0m\n",
      "\u001b[1;32mC:\\ProgramData\\Anaconda3\\envs\\psc-gpu\\lib\\importlib\\_bootstrap_external.py\u001b[0m in \u001b[0;36mexec_module\u001b[1;34m(self, module)\u001b[0m\n",
      "\u001b[1;32mC:\\ProgramData\\Anaconda3\\envs\\psc-gpu\\lib\\importlib\\_bootstrap_external.py\u001b[0m in \u001b[0;36mget_code\u001b[1;34m(self, fullname)\u001b[0m\n",
      "\u001b[1;32mC:\\ProgramData\\Anaconda3\\envs\\psc-gpu\\lib\\importlib\\_bootstrap_external.py\u001b[0m in \u001b[0;36mget_data\u001b[1;34m(self, path)\u001b[0m\n",
      "\u001b[1;31mOSError\u001b[0m: [Errno 22] Invalid argument: 'C:\\\\Users\\\\zbxol\\\\OneDrive - Ecole Polytechnique\\\\INF442\\\\DeepLearning\\\\__init__.py'"
     ]
    }
   ],
   "source": [
    "from DeepLearning import linear_model as LM"
=======
    "model_3 = scoring_matrix.train_model(data_orig, p, q, kernel = kernel)"
>>>>>>> 9607d4a9e2133b143292f8680d13e32f518e4f90
   ]
  },
  {
   "cell_type": "code",
   "execution_count": null,
   "metadata": {},
   "outputs": [],
   "source": []
  }
 ],
 "metadata": {
  "kernelspec": {
   "display_name": "Python 3",
   "language": "python",
   "name": "python3"
  },
  "language_info": {
   "codemirror_mode": {
    "name": "ipython",
    "version": 3
   },
   "file_extension": ".py",
   "mimetype": "text/x-python",
   "name": "python",
   "nbconvert_exporter": "python",
   "pygments_lexer": "ipython3",
   "version": "3.7.6"
  }
 },
 "nbformat": 4,
 "nbformat_minor": 4
}
