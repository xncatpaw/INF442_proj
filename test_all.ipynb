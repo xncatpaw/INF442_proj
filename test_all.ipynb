{
 "cells": [
  {
   "cell_type": "code",
   "execution_count": 1,
   "metadata": {},
   "outputs": [],
   "source": [
    "import numpy as np\n",
    "import pandas as pd"
   ]
  },
  {
   "cell_type": "code",
   "execution_count": 3,
   "metadata": {},
   "outputs": [],
   "source": [
    "data_orig = pd.read_csv('./data/GRAM_NEG_SIG_13.csv')"
   ]
  },
  {
   "cell_type": "code",
   "execution_count": 4,
   "metadata": {},
   "outputs": [
    {
     "name": "stdout",
     "output_type": "stream",
     "text": [
      "                                                   seq  clv_ind\n",
      "0    MKALKITGLSLIISATLAAQTNAAEPIYPDQLRLFSLGEDVCGTDY...       21\n",
      "1    MLKVIPWLLVTSSLVAIPTYIHATTEVVVNLNVKHSVEGKSEFERK...       23\n",
      "2    MNKTLIAAAVAGIVLLASNAQAQTVPEGYQLQQVLMMSRHNLRAPL...       22\n",
      "3    MNKAYSIIWSHSRQAWIVASELARGHGFVLAKNTLLVLAVVSTIGN...       49\n",
      "4    MKKTLLASSLIACLSIASVNVYAASESSISIGYAQSHVKENGYTLD...       23\n",
      "..                                                 ...      ...\n",
      "258  MKTFSVTKSSVVFAMALGMASTAFAQDFCSNAQHSGQKVTITSNQT...       25\n",
      "259  MINHNKTPNILAKVFKRTCGLVSTGAALAILSQAASAACTYTIDSE...       38\n",
      "260  MTKDFKISVSAALISALFSSPYAFAEEPEDGNDGIPRLSAVQISPN...       25\n",
      "261  MKKIACLSAMAAVLAFTAGTSVAATSTVTGGYAQSDAQGQMNKMGG...       23\n",
      "262     MKILYSFLLLPFFSCAFSVDSMIKFSGEDDFFLVNGNSKEREYIYV       16\n",
      "\n",
      "[263 rows x 2 columns]\n"
     ]
    }
   ],
   "source": [
    "print(data_orig )"
   ]
  },
  {
   "cell_type": "code",
   "execution_count": 11,
   "metadata": {},
   "outputs": [
    {
     "name": "stdout",
     "output_type": "stream",
     "text": [
      "263\n"
     ]
    }
   ],
   "source": [
    "data_orig = np.array(data_orig)\n",
    "print(len(data_orig))"
   ]
  },
  {
   "cell_type": "code",
   "execution_count": 8,
   "metadata": {},
   "outputs": [],
   "source": [
    "p = 13\n",
    "q = 2\n",
    "dataset = []\n",
    "for seq, ind in data_orig:\n",
    "    seq_len = len(seq)\n",
    "    for i in range(p, seq_len-q):\n",
    "        seq_cut = seq[i-p:i+q]\n",
    "        label = 1 if i==ind else 0\n",
    "        dataset.append([seq_cut, label])"
   ]
  },
  {
   "cell_type": "code",
   "execution_count": 10,
   "metadata": {},
   "outputs": [
    {
     "name": "stdout",
     "output_type": "stream",
     "text": [
      "10572\n"
     ]
    }
   ],
   "source": [
    "print(len(dataset))"
   ]
  },
  {
   "cell_type": "code",
   "execution_count": null,
   "metadata": {},
   "outputs": [],
   "source": []
  }
 ],
 "metadata": {
  "kernelspec": {
   "display_name": "psc_gpu",
   "language": "python",
   "name": "psc_gpu"
  },
  "language_info": {
   "codemirror_mode": {
    "name": "ipython",
    "version": 3
   },
   "file_extension": ".py",
   "mimetype": "text/x-python",
   "name": "python",
   "nbconvert_exporter": "python",
   "pygments_lexer": "ipython3",
   "version": "3.7.6"
  }
 },
 "nbformat": 4,
 "nbformat_minor": 4
}
